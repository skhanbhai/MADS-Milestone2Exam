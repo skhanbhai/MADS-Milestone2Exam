{
 "cells": [
  {
   "cell_type": "markdown",
   "metadata": {},
   "source": [
    "<h1 style=\"\n",
    "           fontsize:2.1em;\n",
    "           font-family: Calibri;\n",
    "           padding: 20px;\n",
    "           padding-left:80px;\n",
    "           align-items: center;\n",
    "           text-align: center;\n",
    "           width: 500px;\n",
    "           background-color: #f1f1f1;\n",
    "           border: 3px solid;\n",
    "           margin-left:170px;\n",
    "           position:relative;\n",
    "    \">\n",
    "    Exam Preparation</h1>"
   ]
  },
  {
   "cell_type": "markdown",
   "metadata": {},
   "source": [
    "<h1 style=\"\n",
    "           fontsize:1.5em;\n",
    "           font-family: Calibri;\n",
    "           padding: 20px;\n",
    "           /*padding-left:80px;*/\n",
    "           align-items: left;\n",
    "           text-align: Left;\n",
    "           width: 100px;\n",
    "           height: 65px;\n",
    "           background-color: #ffffff;\n",
    "           border: 2px solid;\n",
    "           /*margin-left:70px;\n",
    "           position:relative;*/\n",
    "    \">\n",
    "    Easier</h1>"
   ]
  },
  {
   "cell_type": "markdown",
   "metadata": {},
   "source": [
    "<h2>Q1)</h2> <p style=\"\n",
    "           fontsize: 15px;\n",
    "           fontfamily: Calibri;\n",
    "           background-color: #f1f0f0\n",
    "           \"> \n",
    "One of the main challenges in causal inference from observational data is “selection bias.\n",
    "What do we mean by selection bias? (Hint: Think about the main difference between experimental data and observational data). Then, illustrate the problem of selection bias using a concrete example. \n",
    "Finally, describe briefly one method of causal inference that addresses (i) selection on observables, and (ii) selection on unobservables. </p>"
   ]
  },
  {
   "cell_type": "markdown",
   "metadata": {},
   "source": [
    "<p style=\"\n",
    "           fontsize: 15px;\n",
    "           fontfamily: Calibri;\n",
    "           text-align: left;\n",
    "           padding: 20px;\n",
    "           border: 2px solid;\n",
    "           \"> \n",
    "a) One of the main challenges in causal inference from observational data is “selection bias.\n",
    "What do we mean by selection bias? (Hint: Think about the main difference between experimental data and observational data).</p>"
   ]
  },
  {
   "cell_type": "markdown",
   "metadata": {},
   "source": [
    "Bias: <br>\n",
    "a type of error that systematically skews results in a certain direction"
   ]
  },
  {
   "cell_type": "markdown",
   "metadata": {},
   "source": [
    "Selection Bias <br>\n",
    "* Also referred to as omitted variable bias as it involves an experimenter not taking into account a third variable z (confounding variable) when investigating the relationship between two other variables x and y.\n",
    "* Type of error that occurs when the researcher decides who is going to be studied.\n",
    "* Usually associated with research where the selection of participants isn't random\n",
    "    * e.g. with observational studies such as cohort, case-control and cross-sectional studies"
   ]
  },
  {
   "cell_type": "markdown",
   "metadata": {},
   "source": [
    "<p style=\"\n",
    "           fontsize: 15px;\n",
    "           fontfamily: Calibri;\n",
    "           text-align: left;\n",
    "           padding: 20px;\n",
    "           border: 2px solid;\n",
    "           \"> \n",
    "b) Illustrate the problem of selection bias using a concrete example.\n",
    "</p>"
   ]
  },
  {
   "cell_type": "markdown",
   "metadata": {},
   "source": [
    "* Want to study the effects of working nights on the incidence of a certain health problem.\n",
    "* Collect health information on:\n",
    "    * a group of 9-to-5 workers \n",
    "    * a group of workers doing the same kind of work but at night.\n",
    "* Measure the rates at which members of both groups report the health problem. \n",
    "    * might conclude night work is associated with an increase in that problem.\n",
    "    \n",
    "<h5> Problem </h5>\n",
    "* The two groups studied are very different to begin with. People who work nights have:\n",
    "\n",
    "    * Less skill - fewer employment options\n",
    "    * less healthy diets\n",
    "    * less time and money for leisure activities\n",
    "* Findings might be due to socioeconomic status rather than night work.\n",
    "\n",
    "* Selection bias occurs when people volunteer foa study.\n",
    "* Those who choose to join (who self select into the study) may share a characteristic that makes them different from non-participants.\n",
    "\n",
    "<h5> Examples - Health of Night Workers</h5>\n",
    "\n",
    "* Assessing improving the eating habits fo shift workers.\n",
    "* Put up flyers where many work night sifts and are invite them to participate.\n",
    "* Those that choose to participate may be very different from those who don't i.e. more health conscious to begin with, which is why they are interested in a program to improve eating habits.\n",
    "* This could lead to overestimation of the effect of the program, as the health of those who took part in the program was better than the health of those who did not. This result is influenced by self selection.\n",
    "\n",
    "\n",
    "<h5> Examples - Effect of Taking Health Insurance</h5>\n",
    "\n",
    "* This could be the case of reverse causality in which having better health leads to a person being more likely to take out health insurance and vice versa.\n",
    "\n",
    "\n",
    "<h5> Biggest problem with Selection Bias</h5>\n",
    "\n",
    "* Inability to observe both states (i.e. only observe on state and can't see the counterfactual state) to calculate causal infererence on that person due to the choices they make. The worry is that by only using observed data researchers could miss the effect of unobserved variables due to selection bias on the chosen observed variables.\n",
    "\n",
    "<h5> Minimizing Selection Bias</h5>\n",
    "\n",
    "* Good researchers look for ways to overcome selection bias in their obseravtional studies.\n",
    "* They'll try to make their study representative by including as many people as possible\n",
    "* They'll match the peopole in their study and control groups as closely as possible\n",
    "* They'll adjust for factors that may affect outcomes\n",
    "* They'll talk about selection bias in their reports and reconginse the degree to which their results may apply only to certain groupus or in certain circumstances.\n",
    "\n",
    "* Alternatively selection bias can be minimised by running experiments in whcih participants are randomly assigned to a study or control group. \n",
    "    * Possible still to not have selection bias as:\n",
    "        1. people being allocated within the sample may not be representative of the wider population <br>\n",
    "        2. allocation technques are not random <br>"
   ]
  },
  {
   "cell_type": "markdown",
   "metadata": {},
   "source": [
    "<p style=\"\n",
    "           fontsize: 15px;\n",
    "           fontfamily: Calibri;\n",
    "           text-align: left;\n",
    "           padding: 20px;\n",
    "           border: 2px solid;\n",
    "           \"> \n",
    "c) Describe briefly one method of causal inference that addresses (i) selection on observables, and (ii) selection on unobservables.\n",
    "    </p>"
   ]
  },
  {
   "cell_type": "markdown",
   "metadata": {},
   "source": [
    "<h5> Selection on Observables</h5>\n",
    "Adjustment for Observables in Observational Studies include:\n",
    "<ol>\n",
    "    <li>Subclassification</li>\n",
    "    <li>Matching</li>\n",
    "    <li>Propensity Score Methods</li>\n",
    "    <li>Regression</li>\n",
    "</ol>\n",
    "\n",
    "\n",
    "<h5> Selection on Unobservables</h5>\n",
    "Design features we can use to handle unobservables include:\n",
    "\n",
    "* Design comparisons so that unobservables are likely to be balanced (e.g. sub-sampled groups where treatment assignments were random etc)\n",
    "* Unobservables may differ but comparisons that are unaffected by differences in time-invariant unobservables.\n",
    "* Instrumental variables, if correctly applied\n",
    "* Multiple Control Groups that are known to differ on unobservables\n",
    "* Sensitivity analysis\n",
    "\n",
    "<h5> Follow up Q - How do we know if Instrumental Variables Correctly Applied? </h5>"
   ]
  },
  {
   "cell_type": "markdown",
   "metadata": {},
   "source": [
    "<h2>Q4)</h2> <p style=\"\n",
    "           fontsize: 15px;\n",
    "           fontfamily: Calibri;\n",
    "           background-color: #f1f0f0\n",
    "           \"> \n",
    "        Explain Euclidean distance and cosine similarity of two vectors. \n",
    "</p>"
   ]
  },
  {
   "cell_type": "markdown",
   "metadata": {},
   "source": [
    "<h5> Euclidean Distance</h5>\n",
    "\n",
    "The Euclidean distance between two points in either the plane or 3d space measures the length of a segment connecting the two points. It is athe most obvious way to representing the distance between two points.\n",
    "\n",
    "The Pythagorean Theorem can be used to calculate the distance between these two points.\n",
    "\n",
    "\n",
    "<h5> Cosine Similarity</h5>\n",
    "* similarity measure between two non-zero vectors of an inner product space. \n",
    "* Defined to equal the cosine angle between them\n",
    "\n",
    "    * same as the inner product of the same vectors normalized\n",
    "* Judgment of orientation not magnitude\n",
    "\n",
    "    * Two vectors with the same orientation have cosine similarity of 1\n",
    "    * Two vectors orientated at 90$^\\circ$ relative to each other have a similarity of 0\n",
    "    * two vectors diametrically opposed (i.e. orientation at 180$^\\circ$ to each other) have a simiarity of -1\n",
    "\n",
    "<h5> Manhattan Distance</h5>\n",
    "Distance between two points measured along axes in right angles. \n",
    "\n",
    "In a plane with $p_1$ at ($x_1, y_1$) and $p_2$ at ($x_2, y_2$) it is |$x_1$ - $x_2$| +|$y_1$ - $y_2$|"
   ]
  },
  {
   "cell_type": "markdown",
   "metadata": {},
   "source": [
    "<p style=\"\n",
    "           fontsize: 15px;\n",
    "           fontfamily: Calibri;\n",
    "           text-align: left;\n",
    "           padding: 20px;\n",
    "           border: 2px solid;\n",
    "           \"> \n",
    "(a) Give one example where Euclidean distance is preferred, and another example where cosine similarity is preferred. <br><br>\n",
    "The examples could be related to either a Data Mining task or a Machine Learning task, or both.\n",
    "</p>"
   ]
  },
  {
   "cell_type": "markdown",
   "metadata": {},
   "source": [
    "<h5> Euclidean Distance Preferred </h5>\n",
    "* Text Classification <p style=\"color:red;\">Expand on more</p>\n",
    "<h5> Cosine Similarity Preferred </h5>\n",
    "* Retrieval of the most similar texts to a given document<p style=\"color:red;\">Expand on more</p>"
   ]
  },
  {
   "cell_type": "markdown",
   "metadata": {},
   "source": [
    "<h2>Q6)</h2>\n",
    "<p style=\"\n",
    "           fontsize: 15px;\n",
    "           fontfamily: Calibri;\n",
    "           background-color: #f1f0f0\n",
    "           \">    \n",
    "Imagine that you have access to a news feed that delivers a million news articles every day. However, only 100,000 news articles can be stored and processed at any given time. You wish to maintain a list of 100 hottest topics extracted from these news articles as life progresses and to be able to identify the topics that an arbitrary news article is associated with. \n",
    "</p>"
   ]
  },
  {
   "cell_type": "markdown",
   "metadata": {},
   "source": [
    "<p style=\"\n",
    "           fontsize: 15px;\n",
    "           fontfamily: Calibri;\n",
    "           text-align: left;\n",
    "           padding: 20px;\n",
    "           border: 2px solid;\n",
    "           \"> \n",
    "(a) Describe a Machine Learning pipeline that achieves the desired goals. \n",
    "</p>"
   ]
  },
  {
   "cell_type": "markdown",
   "metadata": {},
   "source": [
    "<p style=\"\n",
    "          font-size:18px;\n",
    "          font-family:Calibri;\n",
    "          background-color: #ffffff;\n",
    "          \"> A means of automating the Machine Learning workflow by enabling data to be transformed and correlated into a model that can be analysed to achieve outputs.</p>\n",
    "\n",
    "* This type of ML pipeline makes the process of inputting data into the ML model fully automated.\n",
    "* Main objective - have control of the exercise. A well-organised pipeline makes implementation more flexible.\n",
    "    * If one part of the pipeline is faulty you can pick the faulty piece (code) and replace it with a part that works.\n",
    "* The term ML model - model that is created by the training process\n",
    "* The learning algorithm finds patterns in the training data that map the input data attributes to the target\n",
    "    * outputs an ML model that captures these patterns\n",
    "* A model can have many dependencies and to store all the components to make sure all features available for deployment, with all the information stored in a central repository.\n",
    "* Pipeline consists of a sequence of componentswhich are a compilation of computations.\n",
    "    * Data is sent through these components, manipulated with the help of computation.\n",
    "    \n",
    "* Pipelines are cyclical (Not one-way flows) enabling iteration to improve scores and make the models scalable.\n",
    "\n",
    "<h5>Steps Associated with ML Pipelines</h5>\n",
    "\n",
    "* Data Collection\n",
    "* Data Cleaning\n",
    "* Feature Extraction -> Labelling | Dimensionality Reduction\n",
    "* Model Validation\n",
    "* Visualisation"
   ]
  },
  {
   "cell_type": "markdown",
   "metadata": {},
   "source": [
    "<p style=\"\n",
    "           fontsize: 15px;\n",
    "           fontfamily: Calibri;\n",
    "           text-align: left;\n",
    "           padding: 20px;\n",
    "           border: 2px solid;\n",
    "           \"> \n",
    "(b) What if extracting topics from a collection of news articles is an expensive operation and should only be performed sparingly?\n",
    "</p>"
   ]
  },
  {
   "cell_type": "markdown",
   "metadata": {},
   "source": [
    "<h5>Look towards more parsimonious models</h5>\n",
    "<p style=\"font-family:Calibri; font-size:20px;\">Select models that forego a little bit of performance for a significant improvement in training time.</p>\n",
    "\n",
    "With the various models associated with Sklearn or PyTorch there are usually quite a few hyperparameters to choose, leading to hundreds of network architectures for object classifiaction. It is easy to get enticed to using the latest model touting the best accuracy in research papers, however that might not be the best option when on a budget.\n",
    "\n",
    "More complex models take longer to train as compared to models with lower complexity. Therefore trying out the various models by training on a sample of the data, checking performance and evaluating to choose a model which has comparable performance but is much simpler would be the way to go.\n",
    "\n",
    "<h5>With Neural Networks Focus on These 3 Parameters</h5>\n",
    "<ol>\n",
    "    <li> Mini Batch Size - Not having a mini-batch size larger than the minimum to keep the GPU fully utilized</li>\n",
    "    <li> Learning Rate - Low learning rates can waste time as it will take longer to converge.</li>\n",
    "    <li> Trainable Layers - During transfer learning, usually the initial layers of the network are frozen and gradient descent is applied only on the weights of the final few layers. The training time depends on the number of unfrozen weights. When training data set is large, smartly chainging the number of trainable layers can imporove training time.</li>\n",
    "</ol>\n",
    "\n",
    "<h5>Know When to Stop</h5>\n",
    "<p style=\"font-family:Calibri; font-size:20px;\">While experimenting with hyper-parameters stop training after a few epochs.</p>\n",
    "\n",
    "Hyper-parameters which perform well on the first few epochs also seem to work well at higher epochs. This implies that for hyper-parameter tuning we can restrict ourselves to a small number of epochs, say 10–20. And we can then train for a large number of epochs (100 -200) when we have finalized on the hyper-parameters."
   ]
  },
  {
   "cell_type": "markdown",
   "metadata": {},
   "source": [
    "<p style=\"\n",
    "           fontsize: 15px;\n",
    "           fontfamily: Calibri;\n",
    "           text-align: left;\n",
    "           padding: 20px;\n",
    "           border: 2px solid;\n",
    "           \"> \n",
    "    (c)\tHow would you decide when it is a good idea to update your topic list?\n",
    "</p>"
   ]
  },
  {
   "cell_type": "markdown",
   "metadata": {},
   "source": [
    "<h5> What is a Dataset Shift</h5>\n",
    "* Dataset shifts occur mainly due to the change of environments (i.e. non-stationary environments), wher ethe environment can be referred to as location, time etc\n",
    "* A change of time period results in signficant differences in the new test data set leading to poor performance.\n",
    "Dataset shifts can be split into:\n",
    "<ol>\n",
    "    <li>Shift in the independent variable - Covariate Shift</li>\n",
    "    <li>Shift in the dependent (target) variable - Prior Probability Shift</li>\n",
    "    <li>Shift in the relationship between independent and target variable- Concept Shift</li>\n",
    "</ol>\n",
    "\n",
    "Of these Covariate shift is the most prevelant and most studied type of dataset shift.\n",
    "\n",
    "<h5> What is a Covariate Shift</h5>\n",
    "\n",
    "* Change in the distribution of the input variables present in the training and test data.\n",
    "    * Most common type of shift, a problem for almost every real world data set.\n",
    "    \n",
    "<h5> Identification</h5>\n",
    "\n",
    "* If we plot the distribution of the data by each independent variable in the test data set and compare against the same feature in the training data, we can compare to see that the distribution looks similar.\n",
    "* Alternatively this can be viewed as a classification problem"
   ]
  },
  {
   "cell_type": "markdown",
   "metadata": {},
   "source": [
    "<h1 style=\"\n",
    "           fontsize:1.5em;\n",
    "           font-family: Calibri;\n",
    "           padding: 20px;\n",
    "           /*padding-left:80px;*/\n",
    "           align-items: left;\n",
    "           text-align: Left;\n",
    "           width: 290px;\n",
    "           background-color: #ffffff;\n",
    "           border: 2px solid;\n",
    "           /*margin-left:70px;\n",
    "           position:relative;*/\n",
    "    \">\n",
    "    More Challenging</h1>"
   ]
  },
  {
   "cell_type": "markdown",
   "metadata": {},
   "source": [
    "<h2>Q2)</h2> <p style=\"\n",
    "           fontsize: 15px;\n",
    "           fontfamily: Calibri;\n",
    "           background-color: #f1f0f0\n",
    "           \"> \n",
    "When information about a market is limited or costly, it may be hard to find trading partners and prices may vary across trades (price dispersion). Information technologies have the potential to improve market efficiency by reducing price dispersion. Below is a graph showing how price dispersion for fish decreased in India when cell phone towers were built and information about prices up and down the beach became easier to obtain (phones added). Due to high investment costs, the cell phone towers were built in a staggered way. In other words, some regions had earlier access to mobile phone services than others.  </p>"
   ]
  },
  {
   "cell_type": "markdown",
   "metadata": {},
   "source": [
    "<img src=\"PriceDispersion.jpeg\"/>"
   ]
  },
  {
   "cell_type": "markdown",
   "metadata": {},
   "source": [
    "<p style=\"\n",
    "           fontsize: 15px;\n",
    "           fontfamily: Calibri;\n",
    "           text-align: left;\n",
    "           padding: 20px;\n",
    "           border: 2px solid;\n",
    "           \"> \n",
    "    (a)\tWhich causal inference method allows you to estimate the causal impact of mobile phone adoption by fishermen and retailers on price dispersion? Explain briefly the basic strategy of how you would analyze the data.\n",
    "</p>"
   ]
  },
  {
   "cell_type": "markdown",
   "metadata": {},
   "source": [
    "This experiment seems to follow a similar pattern of phase-in design similar to the Uber tipping experiment (i.e. Evaluating Market Outcomes in a Nationwide Experiment on Tipping: Evidence from Uber)\n",
    "\n",
    "With this type of experiment I think a multi stage Difference in Differences approach could work to analyse the impact of implementation in the two regions.\n",
    "\n",
    "<h5>Expansion on DoD Approach</h5>"
   ]
  },
  {
   "cell_type": "markdown",
   "metadata": {},
   "source": [
    "<p style=\"\n",
    "           fontsize: 15px;\n",
    "           fontfamily: Calibri;\n",
    "           text-align: left;\n",
    "           padding: 20px;\n",
    "           border: 2px solid;\n",
    "           \"> \n",
    "    (b)\tDiscuss the key assumption(s) underlying your empirical approach.\n",
    "</p>"
   ]
  },
  {
   "cell_type": "markdown",
   "metadata": {},
   "source": [
    "The assumption here is that the samples created after randomisation are statistically indistinguishable.\n",
    "\n",
    "This can be checked by creating a table which shows the degree of similarity between covariates between the treatment and control groups (Balanceness Test).\n",
    "\n",
    "<p style=\"color:red;\">Assumptions of DoD</p>"
   ]
  },
  {
   "cell_type": "markdown",
   "metadata": {},
   "source": [
    "<p style=\"\n",
    "           fontsize: 15px;\n",
    "           fontfamily: Calibri;\n",
    "           text-align: left;\n",
    "           padding: 20px;\n",
    "           border: 2px solid;\n",
    "           \"> \n",
    "    (c)\tDoes price dispersion (max-min spread) appear to increase or decrease with the introduction of mobile phones? \n",
    "</p>"
   ]
  },
  {
   "cell_type": "markdown",
   "metadata": {},
   "source": [
    "Looking at the chart it seems that price dispersion seems to have reduced for both regions after the implementation of the policy to create the cell phone towers."
   ]
  },
  {
   "cell_type": "markdown",
   "metadata": {},
   "source": [
    "<h2>Q3)</h2> <p style=\"\n",
    "           fontsize: 15px;\n",
    "           fontfamily: Calibri;\n",
    "           background-color: #f1f0f0\n",
    "           \"> \n",
    "You’re working as a data scientist at a company and your manager is interested in using the social network information of a user, e.g., who their connections are, what their interests are etc.\n",
    "</p>"
   ]
  },
  {
   "cell_type": "markdown",
   "metadata": {},
   "source": [
    "<p style=\"\n",
    "           fontsize: 15px;\n",
    "           fontfamily: Calibri;\n",
    "           text-align: left;\n",
    "           padding: 20px;\n",
    "           border: 2px solid;\n",
    "           \">  \n",
    "    (a)\tShe has heard of Convolutional Neural Networks (CNNs) and their success stories and is interested in figuring out if and how we can use CNNs for this task?\n",
    "</p>"
   ]
  },
  {
   "cell_type": "code",
   "execution_count": null,
   "metadata": {},
   "outputs": [],
   "source": []
  },
  {
   "cell_type": "markdown",
   "metadata": {},
   "source": [
    "<p style=\"\n",
    "           fontsize: 15px;\n",
    "           fontfamily: Calibri;\n",
    "           text-align: left;\n",
    "           padding: 20px;\n",
    "           border: 2px solid;\n",
    "           \">  \n",
    "    (b)\tIs such an application of CNNs feasible?\n",
    "</p>"
   ]
  },
  {
   "cell_type": "code",
   "execution_count": null,
   "metadata": {},
   "outputs": [],
   "source": []
  },
  {
   "cell_type": "markdown",
   "metadata": {},
   "source": [
    "<p style=\"\n",
    "           fontsize: 15px;\n",
    "           fontfamily: Calibri;\n",
    "           text-align: left;\n",
    "           padding: 20px;\n",
    "           border: 2px solid;\n",
    "           \">  \n",
    "    (c)\tHow would you design such a system?\n",
    "</p>"
   ]
  },
  {
   "cell_type": "code",
   "execution_count": null,
   "metadata": {},
   "outputs": [],
   "source": []
  },
  {
   "cell_type": "markdown",
   "metadata": {},
   "source": [
    "<h2>Q5)</h2> <p style=\"\n",
    "           fontsize: 15px;\n",
    "           fontfamily: Calibri;\n",
    "           background-color: #f1f0f0\n",
    "           \"> \n",
    "Principal Component Analysis (PCA) looks for a lower dimensional subspace onto which the input data is projected so that the l2 reconstruction loss (i.e. least-squares) is minimized. Suppose you are now given an ND data matrix X and a target vector y of length N. \n",
    "</p>"
   ]
  },
  {
   "cell_type": "markdown",
   "metadata": {},
   "source": [
    "<p style=\"\n",
    "           fontsize: 15px;\n",
    "           fontfamily: Calibri;\n",
    "           text-align: left;\n",
    "           padding: 20px;\n",
    "           border: 2px solid;\n",
    "           \">  \n",
    "(a) Explain how PCA can be used to come up with a line that “best describes the data”\n",
    "</p>"
   ]
  },
  {
   "cell_type": "markdown",
   "metadata": {},
   "source": []
  },
  {
   "cell_type": "markdown",
   "metadata": {},
   "source": [
    "<p style=\"\n",
    "           fontsize: 15px;\n",
    "           fontfamily: Calibri;\n",
    "           text-align: left;\n",
    "           padding: 20px;\n",
    "           border: 2px solid;\n",
    "           \">  \n",
    "(a) Explain how PCA can be used to come up with a line that “best describes the data”\n",
    "</p>\n",
    "(b) Define what “best” means here. How does this line compare with the one that results from ordinary least-squares linear regression and when would you choose one versus the other?\n",
    "</p>"
   ]
  },
  {
   "cell_type": "markdown",
   "metadata": {},
   "source": [
    "* PCA tries to find the best fit line through the data points but it mimimizes the orthoganal distances to the model line.\n",
    "    * PCA creates a model line (as a third axis) against which we are regressing our other variables x and y against.\n",
    "* Linear Regression minimises the distance from the perspective of the axis you are regressing with respect to."
   ]
  },
  {
   "cell_type": "markdown",
   "metadata": {},
   "source": [
    "<p style=\"\n",
    "           fontsize: 15px;\n",
    "           fontfamily: Calibri;\n",
    "           text-align: center\n",
    "           \"> \n",
    "    (c)\tDraw or plot an example for D=2 to facilitate your discussion. \n",
    "</p>"
   ]
  },
  {
   "cell_type": "markdown",
   "metadata": {},
   "source": []
  }
 ],
 "metadata": {
  "kernelspec": {
   "display_name": "Python 3",
   "language": "python",
   "name": "python3"
  },
  "language_info": {
   "codemirror_mode": {
    "name": "ipython",
    "version": 3
   },
   "file_extension": ".py",
   "mimetype": "text/x-python",
   "name": "python",
   "nbconvert_exporter": "python",
   "pygments_lexer": "ipython3",
   "version": "3.6.3"
  }
 },
 "nbformat": 4,
 "nbformat_minor": 2
}
